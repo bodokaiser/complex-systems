{
 "cells": [
  {
   "cell_type": "markdown",
   "metadata": {},
   "source": [
    "# Deterministic scale-free network\n",
    "\n",
    "![graph](https://www.researchgate.net/profile/Hiroaki_Yamada4/publication/7837100/figure/fig1/AS:394445196414976@1471054471384/Color-online-The-deterministic-scale-free-network-The-black-and-red-nodes-show-the-hub.png)"
   ]
  },
  {
   "cell_type": "markdown",
   "metadata": {},
   "source": [
    "We want to find the degree probability distribution. The degree defines the number of direct connections of one node. Let $n$ denote the number of iterations applied to construct the graph network, then we find that the total number of nodes for the first $3$ iterations is\n",
    "\n",
    "| n | 0 | 1 | 2 | 3 |\n",
    "|---|---|---|---|---|\n",
    "| m | 1 | 3 | 9 | 27 |\n",
    "\n",
    "\n",
    "therefore after $n$ iterations there are $m=3^n$ nodes."
   ]
  },
  {
   "cell_type": "markdown",
   "metadata": {},
   "source": [
    "However only the root nodes do have a direct connection. The degrees for the most connected root node after the first $4$ iterations are:\n",
    "\n",
    "| n | 0 | 1 | 2 | 3 | 4 |\n",
    "|---|---|---|---|---|---|\n",
    "| d | 0 | 2 | 6 | 14 | 30 |\n",
    "\n",
    "We can think of the degrees to be constructed as recursive sum:\n",
    "$$\n",
    "d_n\n",
    "=2 + 2\\cdot2 + \\dots + 2^n\n",
    "=\\sum^n_{m=1}2^m\n",
    "=2\\sum^{n-1}_{m=0}2^m-2\n",
    "=2\\frac{1-2^n}{1-2}-2\n",
    "=2^{n+1}-2,\n",
    "$$"
   ]
  },
  {
   "cell_type": "markdown",
   "metadata": {},
   "source": []
  },
  {
   "cell_type": "code",
   "execution_count": null,
   "metadata": {},
   "outputs": [],
   "source": []
  }
 ],
 "metadata": {
  "kernelspec": {
   "display_name": "complex-systems",
   "language": "python",
   "name": "complex-systems"
  },
  "language_info": {
   "codemirror_mode": {
    "name": "ipython",
    "version": 3
   },
   "file_extension": ".py",
   "mimetype": "text/x-python",
   "name": "python",
   "nbconvert_exporter": "python",
   "pygments_lexer": "ipython3",
   "version": "3.7.0"
  }
 },
 "nbformat": 4,
 "nbformat_minor": 2
}
