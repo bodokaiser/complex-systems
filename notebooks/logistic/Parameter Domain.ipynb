{
 "cells": [
  {
   "cell_type": "markdown",
   "metadata": {},
   "source": [
    "# Logistic map\n",
    "\n",
    "The logistic map is defined as\n",
    "\n",
    "$$x_{n+1}=rx_n(1-x_n)$$"
   ]
  },
  {
   "cell_type": "code",
   "execution_count": 16,
   "metadata": {},
   "outputs": [],
   "source": [
    "from dynamics import logistic_map"
   ]
  },
  {
   "cell_type": "markdown",
   "metadata": {},
   "source": [
    "### Parameter domain\n",
    "\n",
    "> Why should we restrict $r\\in[0,4]$ and $x\\in[0,1]$?\n",
    "\n",
    "Historical the logistic map originated from an attemot to model population dynamics in which case one has to assume an absorbing state for $x_n=0$ as there cannot be negative populations.\n",
    "\n",
    "However, nowadays the logistic map is studied as a standalone model and we cannot justify neglecting specific parameter ranges. Thus there should be another motivation behind this question."
   ]
  },
  {
   "cell_type": "code",
   "execution_count": 28,
   "metadata": {},
   "outputs": [
    {
     "data": {
      "text/plain": [
       "[inf, inf, inf, inf, inf]"
      ]
     },
     "execution_count": 28,
     "metadata": {},
     "output_type": "execute_result"
    }
   ],
   "source": [
    "logistic_map(0.1, -2.01, 1000000)[-5:]"
   ]
  },
  {
   "cell_type": "code",
   "execution_count": 21,
   "metadata": {},
   "outputs": [
    {
     "data": {
      "text/plain": [
       "[-inf, -inf, -inf, -inf, -inf]"
      ]
     },
     "execution_count": 21,
     "metadata": {},
     "output_type": "execute_result"
    }
   ],
   "source": [
    "logistic_map(0.1, +4.01, 100)[-5:]"
   ]
  },
  {
   "cell_type": "markdown",
   "metadata": {},
   "source": [
    "It appears that for $r<-2$ and $r>4$ the growth of the logistic map is not bound anymore."
   ]
  },
  {
   "cell_type": "code",
   "execution_count": 29,
   "metadata": {},
   "outputs": [
    {
     "data": {
      "text/plain": [
       "[0.0, -0.0, 0.0, -0.0, 0.0]"
      ]
     },
     "execution_count": 29,
     "metadata": {},
     "output_type": "execute_result"
    }
   ],
   "source": [
    "logistic_map(0.1, -0.01, 10000)[-5:]"
   ]
  },
  {
   "cell_type": "code",
   "execution_count": 31,
   "metadata": {},
   "outputs": [
    {
     "data": {
      "text/plain": [
       "[1e-323, -1e-323, 1e-323, -1e-323, 1e-323]"
      ]
     },
     "execution_count": 31,
     "metadata": {},
     "output_type": "execute_result"
    }
   ],
   "source": [
    "logistic_map(0.1, -0.8, 10000)[-5:]"
   ]
  },
  {
   "cell_type": "markdown",
   "metadata": {},
   "source": [
    "For $-1<r<0$ the logistic map oscillates very close to zero, however, this may be numerical artifacts."
   ]
  },
  {
   "cell_type": "markdown",
   "metadata": {},
   "source": []
  }
 ],
 "metadata": {
  "kernelspec": {
   "display_name": "complex-systems",
   "language": "python",
   "name": "complex-systems"
  },
  "language_info": {
   "codemirror_mode": {
    "name": "ipython",
    "version": 3
   },
   "file_extension": ".py",
   "mimetype": "text/x-python",
   "name": "python",
   "nbconvert_exporter": "python",
   "pygments_lexer": "ipython3",
   "version": "3.7.0"
  }
 },
 "nbformat": 4,
 "nbformat_minor": 2
}
