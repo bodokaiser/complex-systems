{
 "cells": [
  {
   "cell_type": "markdown",
   "metadata": {},
   "source": [
    "# Generalized dimension\n",
    "\n",
    "We define the generalized (box) counting dimension as,\n",
    "$$\n",
    "D_q=\\lim_{\\epsilon\\to0}\\frac{1}{q-1}\\frac{\\ln\\left[\\sum^{M(\\epsilon)}_{i=1}(N_i/N)^q\\right]}{\\ln\\epsilon},\n",
    "$$\n",
    "wherein $N$ denotes the total number of trajectory points, $M(\\epsilon)$ denotes the number of cells of size $\\epsilon$ and $N_i$ denotes the number of trajectory points in the $i$th cell.\n"
   ]
  },
  {
   "cell_type": "markdown",
   "metadata": {},
   "source": [
    "### Box counting dimension\n",
    "\n",
    "For $q=0$ the generalized dimension can be written as,\n",
    "$$\n",
    "D_0=-\\lim_{\\epsilon\\to0}\\frac{\\ln M(\\epsilon)}{\\ln\\epsilon},\n",
    "$$\n",
    "which resembles the definition of the box counting dimension."
   ]
  },
  {
   "cell_type": "markdown",
   "metadata": {},
   "source": [
    "## Information dimension\n",
    "\n",
    "We introduce the relative probability to find a trajectory in the $i$th cell $p_i=N_i/N$ and consider a closer look at the expression,\n",
    "$$\n",
    "\\frac{\\ln\\left[\\sum^{M(\\epsilon)}_{i=1}p_i^q\\right]}{q-1},\n",
    "$$\n",
    "which at first glance does not seem to diverge for $q\\to1$. Fortunately we can apply L'Hospital's rule here. First we take the derivative of the numerator:\n",
    "$$\n",
    "\\frac{d}{dq}\\ln\\left[\\sum^M_{i=1}p_i^q\\right]\n",
    "=\\frac{1}{\\sum^M_{i=1}p_i^q}\\sum^M_{i=1}\\frac{d}{dq}p_i^q\n",
    "$$\n",
    "The right term can be evaluated as,\n",
    "$$\n",
    "\\frac{d}{dq}p_i^q=\\frac{d}{dq}e^{q \\ln p_i}=p_i \\ln p_i,\n",
    "$$\n",
    "yielding,\n",
    "$$\n",
    "D_1\n",
    "=\\lim_{q\\to1}D_q\n",
    "=\\frac{\\sum^M_{i=1}p_i \\ln p_i}{\\ln\\epsilon\\sum^M_{i=1}p_i}\n",
    "=\\frac{\\sum^M_{i=1}p_i \\ln p_i}{\\ln\\epsilon},\n",
    "$$\n",
    "which we call the information dimension as the numerator equals the information entropy."
   ]
  }
 ],
 "metadata": {
  "kernelspec": {
   "display_name": "complex-systems",
   "language": "python",
   "name": "complex-systems"
  },
  "language_info": {
   "codemirror_mode": {
    "name": "ipython",
    "version": 3
   },
   "file_extension": ".py",
   "mimetype": "text/x-python",
   "name": "python",
   "nbconvert_exporter": "python",
   "pygments_lexer": "ipython3",
   "version": "3.7.0"
  }
 },
 "nbformat": 4,
 "nbformat_minor": 2
}
