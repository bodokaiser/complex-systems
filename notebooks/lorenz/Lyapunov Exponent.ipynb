{
 "cells": [
  {
   "cell_type": "markdown",
   "metadata": {},
   "source": [
    "# Lorenz system\n",
    "\n",
    "The Lorenz system is described by a system of three ordinary differential equations,\n",
    "$$\n",
    "\\begin{align}\n",
    "\\frac{dx}{dt}&=f(x,y,z)=a(y-x)\\\\\n",
    "\\frac{dy}{dt}&=g(x,y,z)=x(b-z)-y\\\\\n",
    "\\frac{dz}{dt}&=h(x,y,z)=xy-cz\n",
    "\\end{align},\n",
    "$$\n",
    "wherein $a,b,c\\in\\mathbb{R}$ are constant system parameters."
   ]
  },
  {
   "cell_type": "code",
   "execution_count": 2,
   "metadata": {},
   "outputs": [
    {
     "data": {
      "text/html": [
       "<script type=\"text/javascript\">window.PlotlyConfig = {MathJaxConfig: 'local'};</script><script type=\"text/javascript\">if (window.MathJax) {MathJax.Hub.Config({SVG: {font: \"STIX-Web\"}});}</script><script>requirejs.config({paths: { 'plotly': ['https://cdn.plot.ly/plotly-latest.min']},});if(!window._Plotly) {require(['plotly'],function(plotly) {window._Plotly=plotly;});}</script>"
      ],
      "text/vnd.plotly.v1+html": [
       "<script type=\"text/javascript\">window.PlotlyConfig = {MathJaxConfig: 'local'};</script><script type=\"text/javascript\">if (window.MathJax) {MathJax.Hub.Config({SVG: {font: \"STIX-Web\"}});}</script><script>requirejs.config({paths: { 'plotly': ['https://cdn.plot.ly/plotly-latest.min']},});if(!window._Plotly) {require(['plotly'],function(plotly) {window._Plotly=plotly;});}</script>"
      ]
     },
     "metadata": {},
     "output_type": "display_data"
    }
   ],
   "source": [
    "from plotly import offline as py\n",
    "from plotly import graph_objs as go\n",
    "\n",
    "from dynamics import lorenz_rk4\n",
    "\n",
    "py.init_notebook_mode(connected=True)\n",
    "\n",
    "a = 10\n",
    "c = 8/3"
   ]
  },
  {
   "cell_type": "markdown",
   "metadata": {},
   "source": [
    "## Lyapunov exponent\n",
    "\n",
    "Subject of the present notebook is to find the largest Lyapunov exponent for the Lorenz system with $a=10,c=8/3$ for $b=28$ and $b=100$. As a remainder the Lyapunov exponent of a time series $x_0,\\dots,x_n$ is defined as,\n",
    "$$\n",
    "\\lambda=\\lim_{n\\to\\infty}\\frac{1}{n}\\sum^{n-1}_{i=0}\\ln\\left|f^\\prime(x_i)\\right|.\n",
    "$$\n",
    "Becasue we discretize the continous Lorenz system we can directly use this definition for numerical calculations, prior to we need to extend the definition of the Lyapunov exponent for the multivariate case $\\boldsymbol{x}_0,\\dots,\\boldsymbol{x}_n$:\n",
    "$$\n",
    "\\lambda_i=\\lim_{n\\to\\infty}\\frac{1}{n}\\sum^{n-1}_{i=0}\\ln\\left|\\nabla f^\\prime(\\boldsymbol{x}_i)\\right|,\n",
    "$$\n",
    "where $f$ corresponds to the evolution of the $i$th coordinate and $\\lambda_i$ is the Lyapunov exponent in the $i$th dimension. The largest Lyapunov exponent is then to be taken accross all dimensions, thus,\n",
    "$$\\lambda=\\max\\{\\lambda_1,\\dots,\\lambda_n\\}.$$\n",
    "\n",
    "Back to the Lorenz system which is three dimensional. We calculate the gradients of the evolution functions:\n",
    "$$\n",
    "\\begin{align}\n",
    "\\nabla f(x,y,z)&=(-a, +a, 0)^T\\\\\n",
    "\\nabla g(x,y,z)&=(b, -1, -x)^T\\\\\n",
    "\\nabla h(x,y,z)&=(y, x, -c)^T\n",
    "\\end{align}\n",
    "$$\n",
    "In order to obtain a scalar we evaluate the gradient at the given coordinates, thus,\n",
    "$$\n",
    "\\begin{align}\n",
    "\\lambda_x&=\\frac{1}{2n}\\sum^{n-1}_{i=0}\\ln\\left[2a^2\\right]\\\\\n",
    "\\lambda_y&=\\frac{1}{2n}\\sum^{n-1}_{i=0}\\ln\\left[b^2+1+x_i^2\\right]=C_y+\\frac{1}{n}\\sum^{n-1}_{i=0}\\ln\\left[x_i\\right]\\\\\n",
    "\\lambda_z&=\\frac{1}{2n}\\sum^{n-1}_{i=0}\\ln\\left[y_i^2+x_i^2+c^2\\right]=C_z+\\frac{1}{2n}\\sum^{n-1}_{i=0}\\ln\\left[x_i^2+y_i^2\\right],\n",
    "\\end{align}\n",
    "$$\n",
    "we can already rule out $\\lambda_x$ as being the largest Lyapunov exponent, as it corresponds to a constant value. We also discard constant values from $\\lambda_y,\\lambda_z$ as they should not change the dynamics."
   ]
  },
  {
   "cell_type": "code",
   "execution_count": 14,
   "metadata": {},
   "outputs": [],
   "source": [
    "def lyapunov_naive(x0, y0, z0, b, N, h):\n",
    "    x, y, z = lorenz_rk4(x0, y0, z0, a, b, c, N, h)\n",
    "    \n",
    "    return np.max([\n",
    "        np.log(np.abs(x)).mean(),\n",
    "        np.log(x**2 + y**2).mean() / 2\n",
    "    ])"
   ]
  },
  {
   "cell_type": "code",
   "execution_count": 19,
   "metadata": {},
   "outputs": [
    {
     "data": {
      "text/plain": [
       "[2.041129184320763, 2.04098332187096, 2.063258528775639]"
      ]
     },
     "execution_count": 19,
     "metadata": {},
     "output_type": "execute_result"
    }
   ],
   "source": [
    "x0, y0, z0 = np.random.normal(1, 3, size=9).reshape(3, 3)\n",
    "\n",
    "[lyapunov_naive(x0[i], y0[i], z0[i], 28, 100000, 1e-3) for i in range(3)]"
   ]
  },
  {
   "cell_type": "code",
   "execution_count": 20,
   "metadata": {},
   "outputs": [
    {
     "data": {
      "text/plain": [
       "[2.958060375995601, 2.9984851790563036, 2.976283606159797]"
      ]
     },
     "execution_count": 20,
     "metadata": {},
     "output_type": "execute_result"
    }
   ],
   "source": [
    "[lyapunov_naive(x0[i], y0[i], z0[i], 100, 100000, 1e-3) for i in range(3)]"
   ]
  },
  {
   "cell_type": "markdown",
   "metadata": {},
   "source": [
    "We conclude that the Lorenz system with $b=100$ has a greater Lyapunov exponent than the Lorenz system with $b=28$."
   ]
  }
 ],
 "metadata": {
  "kernelspec": {
   "display_name": "complex-systems",
   "language": "python",
   "name": "complex-systems"
  },
  "language_info": {
   "codemirror_mode": {
    "name": "ipython",
    "version": 3
   },
   "file_extension": ".py",
   "mimetype": "text/x-python",
   "name": "python",
   "nbconvert_exporter": "python",
   "pygments_lexer": "ipython3",
   "version": "3.7.0"
  }
 },
 "nbformat": 4,
 "nbformat_minor": 2
}
