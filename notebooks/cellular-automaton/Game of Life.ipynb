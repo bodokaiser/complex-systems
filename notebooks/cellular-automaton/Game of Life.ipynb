{
 "cells": [
  {
   "cell_type": "markdown",
   "metadata": {},
   "source": [
    "# Game of Life\n",
    "\n",
    "In this notebook we are going to study the Game of Life cellular automaton."
   ]
  },
  {
   "cell_type": "code",
   "execution_count": 1,
   "metadata": {},
   "outputs": [
    {
     "data": {
      "text/html": [
       "<script type=\"text/javascript\">window.PlotlyConfig = {MathJaxConfig: 'local'};</script><script type=\"text/javascript\">if (window.MathJax) {MathJax.Hub.Config({SVG: {font: \"STIX-Web\"}});}</script><script>requirejs.config({paths: { 'plotly': ['https://cdn.plot.ly/plotly-latest.min']},});if(!window._Plotly) {require(['plotly'],function(plotly) {window._Plotly=plotly;});}</script>"
      ],
      "text/vnd.plotly.v1+html": [
       "<script type=\"text/javascript\">window.PlotlyConfig = {MathJaxConfig: 'local'};</script><script type=\"text/javascript\">if (window.MathJax) {MathJax.Hub.Config({SVG: {font: \"STIX-Web\"}});}</script><script>requirejs.config({paths: { 'plotly': ['https://cdn.plot.ly/plotly-latest.min']},});if(!window._Plotly) {require(['plotly'],function(plotly) {window._Plotly=plotly;});}</script>"
      ]
     },
     "metadata": {},
     "output_type": "display_data"
    }
   ],
   "source": [
    "from plotly import tools\n",
    "from plotly import offline as py\n",
    "from plotly import graph_objs as go\n",
    "\n",
    "py.init_notebook_mode(connected=True)"
   ]
  },
  {
   "cell_type": "markdown",
   "metadata": {},
   "source": [
    "For the Game of Life one defines the state,\n",
    "$$A\\in \\{0,1\\}^{N\\times M}.$$\n",
    "Every $A_{ij}$ dependes a cell that either lives $A_{ij}=1$ or that is dead $A_{ij}=0$. Every cell has eight neighbors $A_{i-1,j-1},A_{i-1,j_1},\\dots,A_{i+1,j+1}$. We define\n",
    "$$N_{ij}=\\sum^{i+1}_{m=i-1}\\sum^{j+1}_{n=j-1}A_{mn}-A_{ij}$$. Now the rules to update a given cell $A_{ij}\\to A^\\prime_{ij}$ are\n",
    "\n",
    "If the cell lives, $A_{ij}=1$:\n",
    "* if $N_{ij}<2$ the cell dies out due to underpopulation $A^\\prime_{ij}=0$\n",
    "* if $N_{ij}=2,3$ the cell stays alvie $A^\\prime_{ij}=1$\n",
    "* if $N_{ij}>3$ the cell dies out due to overpopulation $A^\\prime_{ij}=0$\n",
    "\n",
    "If the cell is dead, $A_{ij}=0$:\n",
    "* if $N_{ij}=3$ the cell gets (re)born\n"
   ]
  },
  {
   "cell_type": "code",
   "execution_count": 42,
   "metadata": {},
   "outputs": [],
   "source": [
    "def game_of_life(state, N):\n",
    "    states = np.zeros((N+1, state.shape[0]+2, state.shape[1]+2))\n",
    "    states[0, 1:-1, 1:-1] = state\n",
    "    \n",
    "    for n in range(N):\n",
    "        for i in range(1, state.shape[0] + 1):\n",
    "            for j in range(1, state.shape[1] + 1):\n",
    "                N = states[n][i-1:i+2, j-1:j+2].sum() - states[n][i, j]\n",
    "\n",
    "                states[n+1][i,j] = states[n][i,j]\n",
    "\n",
    "                if states[n][i,j] == 1:\n",
    "                    if N < 2 or N > 3:\n",
    "                        states[n+1][i,j] = 0\n",
    "                else:\n",
    "                    if N == 3:\n",
    "                        states[n+1][i,j] = 1\n",
    "                        \n",
    "    return states[:, 1:-1, 1:-1]"
   ]
  },
  {
   "cell_type": "code",
   "execution_count": 43,
   "metadata": {},
   "outputs": [
    {
     "data": {
      "application/vnd.plotly.v1+json": {
       "config": {
        "linkText": "Export to plot.ly",
        "plotlyServerURL": "https://plot.ly",
        "showLink": false
       },
       "data": [
        {
         "colorscale": "YlGnBu",
         "showscale": false,
         "type": "heatmap",
         "uid": "50d097d0-05d2-4cb1-b4cc-5808f5822ff8",
         "xaxis": "x",
         "yaxis": "y",
         "z": [
          [
           0,
           0,
           0,
           0
          ],
          [
           0,
           1,
           0,
           0
          ],
          [
           0,
           0,
           0,
           0
          ]
         ]
        },
        {
         "colorscale": "YlGnBu",
         "showscale": false,
         "type": "heatmap",
         "uid": "60dffec4-b1cc-4ba3-a64b-972e07878cac",
         "xaxis": "x4",
         "yaxis": "y4",
         "z": [
          [
           0,
           0,
           0,
           0
          ],
          [
           0,
           0,
           0,
           0
          ],
          [
           0,
           0,
           0,
           0
          ]
         ],
         "zmax": 1,
         "zmin": 0
        },
        {
         "colorscale": "YlGnBu",
         "showscale": false,
         "type": "heatmap",
         "uid": "cf1d68b3-52e4-4e1a-b14a-1dc3d5e9260f",
         "xaxis": "x2",
         "yaxis": "y2",
         "z": [
          [
           0,
           0,
           0,
           0
          ],
          [
           0,
           1,
           1,
           0
          ],
          [
           0,
           0,
           0,
           0
          ]
         ]
        },
        {
         "colorscale": "YlGnBu",
         "showscale": false,
         "type": "heatmap",
         "uid": "1d4b2708-2935-40dc-b815-6e6c010a736c",
         "xaxis": "x5",
         "yaxis": "y5",
         "z": [
          [
           0,
           0,
           0,
           0
          ],
          [
           0,
           0,
           0,
           0
          ],
          [
           0,
           0,
           0,
           0
          ]
         ],
         "zmax": 1,
         "zmin": 0
        },
        {
         "colorscale": "YlGnBu",
         "showscale": false,
         "type": "heatmap",
         "uid": "c07dc5d9-42a8-4a16-aeaa-b1e27b24e6ad",
         "xaxis": "x3",
         "yaxis": "y3",
         "z": [
          [
           0,
           0,
           0,
           0
          ],
          [
           0,
           1,
           0,
           0
          ],
          [
           0,
           0,
           1,
           0
          ]
         ]
        },
        {
         "colorscale": "YlGnBu",
         "showscale": false,
         "type": "heatmap",
         "uid": "35894435-354e-47b6-808f-a594dac31682",
         "xaxis": "x6",
         "yaxis": "y6",
         "z": [
          [
           0,
           0,
           0,
           0
          ],
          [
           0,
           0,
           0,
           0
          ],
          [
           0,
           0,
           0,
           0
          ]
         ],
         "zmax": 1,
         "zmin": 0
        }
       ],
       "layout": {
        "title": {
         "text": "Underpopulation"
        },
        "xaxis": {
         "anchor": "y",
         "domain": [
          0,
          0.2888888888888889
         ]
        },
        "xaxis2": {
         "anchor": "y2",
         "domain": [
          0.35555555555555557,
          0.6444444444444445
         ]
        },
        "xaxis3": {
         "anchor": "y3",
         "domain": [
          0.7111111111111111,
          1
         ]
        },
        "xaxis4": {
         "anchor": "y4",
         "domain": [
          0,
          0.2888888888888889
         ]
        },
        "xaxis5": {
         "anchor": "y5",
         "domain": [
          0.35555555555555557,
          0.6444444444444445
         ]
        },
        "xaxis6": {
         "anchor": "y6",
         "domain": [
          0.7111111111111111,
          1
         ]
        },
        "yaxis": {
         "anchor": "x",
         "domain": [
          0.575,
          1
         ]
        },
        "yaxis2": {
         "anchor": "x2",
         "domain": [
          0.575,
          1
         ]
        },
        "yaxis3": {
         "anchor": "x3",
         "domain": [
          0.575,
          1
         ]
        },
        "yaxis4": {
         "anchor": "x4",
         "domain": [
          0,
          0.425
         ]
        },
        "yaxis5": {
         "anchor": "x5",
         "domain": [
          0,
          0.425
         ]
        },
        "yaxis6": {
         "anchor": "x6",
         "domain": [
          0,
          0.425
         ]
        }
       }
      },
      "text/html": [
       "<div id=\"c15e9e88-2032-423e-b461-cbcd8dcab093\" style=\"height: 525px; width: 100%;\" class=\"plotly-graph-div\"></div><script type=\"text/javascript\">require([\"plotly\"], function(Plotly) { window.PLOTLYENV=window.PLOTLYENV || {};window.PLOTLYENV.BASE_URL=\"https://plot.ly\";Plotly.newPlot(\"c15e9e88-2032-423e-b461-cbcd8dcab093\", [{\"colorscale\": \"YlGnBu\", \"showscale\": false, \"z\": [[0, 0, 0, 0], [0, 1, 0, 0], [0, 0, 0, 0]], \"type\": \"heatmap\", \"uid\": \"50d097d0-05d2-4cb1-b4cc-5808f5822ff8\", \"xaxis\": \"x\", \"yaxis\": \"y\"}, {\"colorscale\": \"YlGnBu\", \"showscale\": false, \"z\": [[0.0, 0.0, 0.0, 0.0], [0.0, 0.0, 0.0, 0.0], [0.0, 0.0, 0.0, 0.0]], \"zmax\": 1, \"zmin\": 0, \"type\": \"heatmap\", \"uid\": \"60dffec4-b1cc-4ba3-a64b-972e07878cac\", \"xaxis\": \"x4\", \"yaxis\": \"y4\"}, {\"colorscale\": \"YlGnBu\", \"showscale\": false, \"z\": [[0, 0, 0, 0], [0, 1, 1, 0], [0, 0, 0, 0]], \"type\": \"heatmap\", \"uid\": \"cf1d68b3-52e4-4e1a-b14a-1dc3d5e9260f\", \"xaxis\": \"x2\", \"yaxis\": \"y2\"}, {\"colorscale\": \"YlGnBu\", \"showscale\": false, \"z\": [[0.0, 0.0, 0.0, 0.0], [0.0, 0.0, 0.0, 0.0], [0.0, 0.0, 0.0, 0.0]], \"zmax\": 1, \"zmin\": 0, \"type\": \"heatmap\", \"uid\": \"1d4b2708-2935-40dc-b815-6e6c010a736c\", \"xaxis\": \"x5\", \"yaxis\": \"y5\"}, {\"colorscale\": \"YlGnBu\", \"showscale\": false, \"z\": [[0, 0, 0, 0], [0, 1, 0, 0], [0, 0, 1, 0]], \"type\": \"heatmap\", \"uid\": \"c07dc5d9-42a8-4a16-aeaa-b1e27b24e6ad\", \"xaxis\": \"x3\", \"yaxis\": \"y3\"}, {\"colorscale\": \"YlGnBu\", \"showscale\": false, \"z\": [[0.0, 0.0, 0.0, 0.0], [0.0, 0.0, 0.0, 0.0], [0.0, 0.0, 0.0, 0.0]], \"zmax\": 1, \"zmin\": 0, \"type\": \"heatmap\", \"uid\": \"35894435-354e-47b6-808f-a594dac31682\", \"xaxis\": \"x6\", \"yaxis\": \"y6\"}], {\"xaxis\": {\"anchor\": \"y\", \"domain\": [0.0, 0.2888888888888889]}, \"yaxis\": {\"anchor\": \"x\", \"domain\": [0.575, 1.0]}, \"xaxis2\": {\"anchor\": \"y2\", \"domain\": [0.35555555555555557, 0.6444444444444445]}, \"yaxis2\": {\"anchor\": \"x2\", \"domain\": [0.575, 1.0]}, \"xaxis3\": {\"anchor\": \"y3\", \"domain\": [0.7111111111111111, 1.0]}, \"yaxis3\": {\"anchor\": \"x3\", \"domain\": [0.575, 1.0]}, \"xaxis4\": {\"anchor\": \"y4\", \"domain\": [0.0, 0.2888888888888889]}, \"yaxis4\": {\"anchor\": \"x4\", \"domain\": [0.0, 0.425]}, \"xaxis5\": {\"anchor\": \"y5\", \"domain\": [0.35555555555555557, 0.6444444444444445]}, \"yaxis5\": {\"anchor\": \"x5\", \"domain\": [0.0, 0.425]}, \"xaxis6\": {\"anchor\": \"y6\", \"domain\": [0.7111111111111111, 1.0]}, \"yaxis6\": {\"anchor\": \"x6\", \"domain\": [0.0, 0.425]}, \"title\": {\"text\": \"Underpopulation\"}}, {\"showLink\": false, \"linkText\": \"Export to plot.ly\", \"plotlyServerURL\": \"https://plot.ly\"})});</script><script type=\"text/javascript\">window.addEventListener(\"resize\", function(){window._Plotly.Plots.resize(document.getElementById(\"c15e9e88-2032-423e-b461-cbcd8dcab093\"));});</script>"
      ],
      "text/vnd.plotly.v1+html": [
       "<div id=\"c15e9e88-2032-423e-b461-cbcd8dcab093\" style=\"height: 525px; width: 100%;\" class=\"plotly-graph-div\"></div><script type=\"text/javascript\">require([\"plotly\"], function(Plotly) { window.PLOTLYENV=window.PLOTLYENV || {};window.PLOTLYENV.BASE_URL=\"https://plot.ly\";Plotly.newPlot(\"c15e9e88-2032-423e-b461-cbcd8dcab093\", [{\"colorscale\": \"YlGnBu\", \"showscale\": false, \"z\": [[0, 0, 0, 0], [0, 1, 0, 0], [0, 0, 0, 0]], \"type\": \"heatmap\", \"uid\": \"50d097d0-05d2-4cb1-b4cc-5808f5822ff8\", \"xaxis\": \"x\", \"yaxis\": \"y\"}, {\"colorscale\": \"YlGnBu\", \"showscale\": false, \"z\": [[0.0, 0.0, 0.0, 0.0], [0.0, 0.0, 0.0, 0.0], [0.0, 0.0, 0.0, 0.0]], \"zmax\": 1, \"zmin\": 0, \"type\": \"heatmap\", \"uid\": \"60dffec4-b1cc-4ba3-a64b-972e07878cac\", \"xaxis\": \"x4\", \"yaxis\": \"y4\"}, {\"colorscale\": \"YlGnBu\", \"showscale\": false, \"z\": [[0, 0, 0, 0], [0, 1, 1, 0], [0, 0, 0, 0]], \"type\": \"heatmap\", \"uid\": \"cf1d68b3-52e4-4e1a-b14a-1dc3d5e9260f\", \"xaxis\": \"x2\", \"yaxis\": \"y2\"}, {\"colorscale\": \"YlGnBu\", \"showscale\": false, \"z\": [[0.0, 0.0, 0.0, 0.0], [0.0, 0.0, 0.0, 0.0], [0.0, 0.0, 0.0, 0.0]], \"zmax\": 1, \"zmin\": 0, \"type\": \"heatmap\", \"uid\": \"1d4b2708-2935-40dc-b815-6e6c010a736c\", \"xaxis\": \"x5\", \"yaxis\": \"y5\"}, {\"colorscale\": \"YlGnBu\", \"showscale\": false, \"z\": [[0, 0, 0, 0], [0, 1, 0, 0], [0, 0, 1, 0]], \"type\": \"heatmap\", \"uid\": \"c07dc5d9-42a8-4a16-aeaa-b1e27b24e6ad\", \"xaxis\": \"x3\", \"yaxis\": \"y3\"}, {\"colorscale\": \"YlGnBu\", \"showscale\": false, \"z\": [[0.0, 0.0, 0.0, 0.0], [0.0, 0.0, 0.0, 0.0], [0.0, 0.0, 0.0, 0.0]], \"zmax\": 1, \"zmin\": 0, \"type\": \"heatmap\", \"uid\": \"35894435-354e-47b6-808f-a594dac31682\", \"xaxis\": \"x6\", \"yaxis\": \"y6\"}], {\"xaxis\": {\"anchor\": \"y\", \"domain\": [0.0, 0.2888888888888889]}, \"yaxis\": {\"anchor\": \"x\", \"domain\": [0.575, 1.0]}, \"xaxis2\": {\"anchor\": \"y2\", \"domain\": [0.35555555555555557, 0.6444444444444445]}, \"yaxis2\": {\"anchor\": \"x2\", \"domain\": [0.575, 1.0]}, \"xaxis3\": {\"anchor\": \"y3\", \"domain\": [0.7111111111111111, 1.0]}, \"yaxis3\": {\"anchor\": \"x3\", \"domain\": [0.575, 1.0]}, \"xaxis4\": {\"anchor\": \"y4\", \"domain\": [0.0, 0.2888888888888889]}, \"yaxis4\": {\"anchor\": \"x4\", \"domain\": [0.0, 0.425]}, \"xaxis5\": {\"anchor\": \"y5\", \"domain\": [0.35555555555555557, 0.6444444444444445]}, \"yaxis5\": {\"anchor\": \"x5\", \"domain\": [0.0, 0.425]}, \"xaxis6\": {\"anchor\": \"y6\", \"domain\": [0.7111111111111111, 1.0]}, \"yaxis6\": {\"anchor\": \"x6\", \"domain\": [0.0, 0.425]}, \"title\": {\"text\": \"Underpopulation\"}}, {\"showLink\": false, \"linkText\": \"Export to plot.ly\", \"plotlyServerURL\": \"https://plot.ly\"})});</script><script type=\"text/javascript\">window.addEventListener(\"resize\", function(){window._Plotly.Plots.resize(document.getElementById(\"c15e9e88-2032-423e-b461-cbcd8dcab093\"));});</script>"
      ]
     },
     "metadata": {},
     "output_type": "display_data"
    }
   ],
   "source": [
    "X1 = np.array([\n",
    "    [0, 0, 0, 0],\n",
    "    [0, 1, 0, 0],\n",
    "    [0, 0, 0, 0],\n",
    "])\n",
    "\n",
    "X2 = np.array([\n",
    "    [0, 0, 0, 0],\n",
    "    [0, 1, 1, 0],\n",
    "    [0, 0, 0, 0],\n",
    "])\n",
    "\n",
    "X3 = np.array([\n",
    "    [0, 0, 0, 0],\n",
    "    [0, 1, 0, 0],\n",
    "    [0, 0, 1, 0],\n",
    "])\n",
    "\n",
    "Y1 = game_of_life(X1, 1)\n",
    "Y2 = game_of_life(X2, 1)\n",
    "Y3 = game_of_life(X3, 1)\n",
    "\n",
    "figure = tools.make_subplots(rows=2, cols=3, print_grid=False)\n",
    "\n",
    "figure.append_trace(go.Heatmap(z=X1, colorscale='YlGnBu', showscale=False), 1, 1)\n",
    "figure.append_trace(go.Heatmap(z=Y1[-1], colorscale='YlGnBu', showscale=False, zmin=0, zmax=1), 2, 1)\n",
    "\n",
    "figure.append_trace(go.Heatmap(z=X2, colorscale='YlGnBu', showscale=False), 1, 2)\n",
    "figure.append_trace(go.Heatmap(z=Y2[-1], colorscale='YlGnBu', showscale=False, zmin=0, zmax=1), 2, 2)\n",
    "\n",
    "figure.append_trace(go.Heatmap(z=X3, colorscale='YlGnBu', showscale=False), 1, 3)\n",
    "figure.append_trace(go.Heatmap(z=Y3[-1], colorscale='YlGnBu', showscale=False, zmin=0, zmax=1), 2, 3)\n",
    "\n",
    "figure['layout'].update(title='Underpopulation')\n",
    "\n",
    "py.iplot(figure)"
   ]
  },
  {
   "cell_type": "code",
   "execution_count": 44,
   "metadata": {},
   "outputs": [
    {
     "data": {
      "application/vnd.plotly.v1+json": {
       "config": {
        "linkText": "Export to plot.ly",
        "plotlyServerURL": "https://plot.ly",
        "showLink": false
       },
       "data": [
        {
         "colorscale": "YlGnBu",
         "showscale": false,
         "type": "heatmap",
         "uid": "e60f85b2-6e2d-4c29-a7c5-49200adf2e47",
         "xaxis": "x",
         "yaxis": "y",
         "z": [
          [
           0,
           1,
           0,
           0
          ],
          [
           0,
           1,
           0,
           0
          ],
          [
           0,
           0,
           1,
           0
          ]
         ]
        },
        {
         "colorscale": "YlGnBu",
         "showscale": false,
         "type": "heatmap",
         "uid": "6d883db8-1a69-4481-914b-fce71609a5a2",
         "xaxis": "x4",
         "yaxis": "y4",
         "z": [
          [
           0,
           0,
           0,
           0
          ],
          [
           0,
           1,
           1,
           0
          ],
          [
           0,
           0,
           0,
           0
          ]
         ],
         "zmax": 1,
         "zmin": 0
        },
        {
         "colorscale": "YlGnBu",
         "showscale": false,
         "type": "heatmap",
         "uid": "a48d7dba-206d-474e-a844-e3c5db7e6e30",
         "xaxis": "x7",
         "yaxis": "y7",
         "z": [
          [
           0,
           0,
           0,
           0
          ],
          [
           0,
           0,
           0,
           0
          ],
          [
           0,
           0,
           0,
           0
          ]
         ],
         "zmax": 1,
         "zmin": 0
        },
        {
         "colorscale": "YlGnBu",
         "showscale": false,
         "type": "heatmap",
         "uid": "5ccea86e-f0e8-44ba-9cd1-cd20d5d06c64",
         "xaxis": "x2",
         "yaxis": "y2",
         "z": [
          [
           0,
           1,
           0,
           0
          ],
          [
           1,
           0,
           1,
           0
          ],
          [
           0,
           0,
           0,
           0
          ]
         ]
        },
        {
         "colorscale": "YlGnBu",
         "showscale": false,
         "type": "heatmap",
         "uid": "8c3776c8-0326-4948-b236-0350534222f9",
         "xaxis": "x5",
         "yaxis": "y5",
         "z": [
          [
           0,
           1,
           0,
           0
          ],
          [
           0,
           1,
           0,
           0
          ],
          [
           0,
           0,
           0,
           0
          ]
         ],
         "zmax": 1,
         "zmin": 0
        },
        {
         "colorscale": "YlGnBu",
         "showscale": false,
         "type": "heatmap",
         "uid": "717ef8f4-4f29-479e-a62a-860950fbea54",
         "xaxis": "x8",
         "yaxis": "y8",
         "z": [
          [
           0,
           0,
           0,
           0
          ],
          [
           0,
           0,
           0,
           0
          ],
          [
           0,
           0,
           0,
           0
          ]
         ],
         "zmax": 1,
         "zmin": 0
        },
        {
         "colorscale": "YlGnBu",
         "showscale": false,
         "type": "heatmap",
         "uid": "58d90fa0-119a-49bd-b327-19ce4d4f1887",
         "xaxis": "x3",
         "yaxis": "y3",
         "z": [
          [
           0,
           0,
           1,
           0
          ],
          [
           0,
           1,
           0,
           0
          ],
          [
           1,
           0,
           0,
           0
          ]
         ]
        },
        {
         "colorscale": "YlGnBu",
         "showscale": false,
         "type": "heatmap",
         "uid": "341f62de-4ed0-4b15-9a1c-b68a90427f43",
         "xaxis": "x6",
         "yaxis": "y6",
         "z": [
          [
           0,
           0,
           0,
           0
          ],
          [
           0,
           1,
           0,
           0
          ],
          [
           0,
           0,
           0,
           0
          ]
         ],
         "zmax": 1,
         "zmin": 0
        },
        {
         "colorscale": "YlGnBu",
         "showscale": false,
         "type": "heatmap",
         "uid": "93f347e8-67b4-4176-ab60-bb310d0162eb",
         "xaxis": "x9",
         "yaxis": "y9",
         "z": [
          [
           0,
           0,
           0,
           0
          ],
          [
           0,
           0,
           0,
           0
          ],
          [
           0,
           0,
           0,
           0
          ]
         ],
         "zmax": 1,
         "zmin": 0
        }
       ],
       "layout": {
        "title": {
         "text": "Underpopulation"
        },
        "xaxis": {
         "anchor": "y",
         "domain": [
          0,
          0.2888888888888889
         ]
        },
        "xaxis2": {
         "anchor": "y2",
         "domain": [
          0.35555555555555557,
          0.6444444444444445
         ]
        },
        "xaxis3": {
         "anchor": "y3",
         "domain": [
          0.7111111111111111,
          1
         ]
        },
        "xaxis4": {
         "anchor": "y4",
         "domain": [
          0,
          0.2888888888888889
         ]
        },
        "xaxis5": {
         "anchor": "y5",
         "domain": [
          0.35555555555555557,
          0.6444444444444445
         ]
        },
        "xaxis6": {
         "anchor": "y6",
         "domain": [
          0.7111111111111111,
          1
         ]
        },
        "xaxis7": {
         "anchor": "y7",
         "domain": [
          0,
          0.2888888888888889
         ]
        },
        "xaxis8": {
         "anchor": "y8",
         "domain": [
          0.35555555555555557,
          0.6444444444444445
         ]
        },
        "xaxis9": {
         "anchor": "y9",
         "domain": [
          0.7111111111111111,
          1
         ]
        },
        "yaxis": {
         "anchor": "x",
         "domain": [
          0.7333333333333333,
          1
         ]
        },
        "yaxis2": {
         "anchor": "x2",
         "domain": [
          0.7333333333333333,
          1
         ]
        },
        "yaxis3": {
         "anchor": "x3",
         "domain": [
          0.7333333333333333,
          1
         ]
        },
        "yaxis4": {
         "anchor": "x4",
         "domain": [
          0.36666666666666664,
          0.6333333333333333
         ]
        },
        "yaxis5": {
         "anchor": "x5",
         "domain": [
          0.36666666666666664,
          0.6333333333333333
         ]
        },
        "yaxis6": {
         "anchor": "x6",
         "domain": [
          0.36666666666666664,
          0.6333333333333333
         ]
        },
        "yaxis7": {
         "anchor": "x7",
         "domain": [
          0,
          0.26666666666666666
         ]
        },
        "yaxis8": {
         "anchor": "x8",
         "domain": [
          0,
          0.26666666666666666
         ]
        },
        "yaxis9": {
         "anchor": "x9",
         "domain": [
          0,
          0.26666666666666666
         ]
        }
       }
      },
      "text/html": [
       "<div id=\"bc4dc2a5-9770-46e6-aa21-618e852cde05\" style=\"height: 525px; width: 100%;\" class=\"plotly-graph-div\"></div><script type=\"text/javascript\">require([\"plotly\"], function(Plotly) { window.PLOTLYENV=window.PLOTLYENV || {};window.PLOTLYENV.BASE_URL=\"https://plot.ly\";Plotly.newPlot(\"bc4dc2a5-9770-46e6-aa21-618e852cde05\", [{\"colorscale\": \"YlGnBu\", \"showscale\": false, \"z\": [[0, 1, 0, 0], [0, 1, 0, 0], [0, 0, 1, 0]], \"type\": \"heatmap\", \"uid\": \"e60f85b2-6e2d-4c29-a7c5-49200adf2e47\", \"xaxis\": \"x\", \"yaxis\": \"y\"}, {\"colorscale\": \"YlGnBu\", \"showscale\": false, \"z\": [[0.0, 0.0, 0.0, 0.0], [0.0, 1.0, 1.0, 0.0], [0.0, 0.0, 0.0, 0.0]], \"zmax\": 1, \"zmin\": 0, \"type\": \"heatmap\", \"uid\": \"6d883db8-1a69-4481-914b-fce71609a5a2\", \"xaxis\": \"x4\", \"yaxis\": \"y4\"}, {\"colorscale\": \"YlGnBu\", \"showscale\": false, \"z\": [[0.0, 0.0, 0.0, 0.0], [0.0, 0.0, 0.0, 0.0], [0.0, 0.0, 0.0, 0.0]], \"zmax\": 1, \"zmin\": 0, \"type\": \"heatmap\", \"uid\": \"a48d7dba-206d-474e-a844-e3c5db7e6e30\", \"xaxis\": \"x7\", \"yaxis\": \"y7\"}, {\"colorscale\": \"YlGnBu\", \"showscale\": false, \"z\": [[0, 1, 0, 0], [1, 0, 1, 0], [0, 0, 0, 0]], \"type\": \"heatmap\", \"uid\": \"5ccea86e-f0e8-44ba-9cd1-cd20d5d06c64\", \"xaxis\": \"x2\", \"yaxis\": \"y2\"}, {\"colorscale\": \"YlGnBu\", \"showscale\": false, \"z\": [[0.0, 1.0, 0.0, 0.0], [0.0, 1.0, 0.0, 0.0], [0.0, 0.0, 0.0, 0.0]], \"zmax\": 1, \"zmin\": 0, \"type\": \"heatmap\", \"uid\": \"8c3776c8-0326-4948-b236-0350534222f9\", \"xaxis\": \"x5\", \"yaxis\": \"y5\"}, {\"colorscale\": \"YlGnBu\", \"showscale\": false, \"z\": [[0.0, 0.0, 0.0, 0.0], [0.0, 0.0, 0.0, 0.0], [0.0, 0.0, 0.0, 0.0]], \"zmax\": 1, \"zmin\": 0, \"type\": \"heatmap\", \"uid\": \"717ef8f4-4f29-479e-a62a-860950fbea54\", \"xaxis\": \"x8\", \"yaxis\": \"y8\"}, {\"colorscale\": \"YlGnBu\", \"showscale\": false, \"z\": [[0, 0, 1, 0], [0, 1, 0, 0], [1, 0, 0, 0]], \"type\": \"heatmap\", \"uid\": \"58d90fa0-119a-49bd-b327-19ce4d4f1887\", \"xaxis\": \"x3\", \"yaxis\": \"y3\"}, {\"colorscale\": \"YlGnBu\", \"showscale\": false, \"z\": [[0.0, 0.0, 0.0, 0.0], [0.0, 1.0, 0.0, 0.0], [0.0, 0.0, 0.0, 0.0]], \"zmax\": 1, \"zmin\": 0, \"type\": \"heatmap\", \"uid\": \"341f62de-4ed0-4b15-9a1c-b68a90427f43\", \"xaxis\": \"x6\", \"yaxis\": \"y6\"}, {\"colorscale\": \"YlGnBu\", \"showscale\": false, \"z\": [[0.0, 0.0, 0.0, 0.0], [0.0, 0.0, 0.0, 0.0], [0.0, 0.0, 0.0, 0.0]], \"zmax\": 1, \"zmin\": 0, \"type\": \"heatmap\", \"uid\": \"93f347e8-67b4-4176-ab60-bb310d0162eb\", \"xaxis\": \"x9\", \"yaxis\": \"y9\"}], {\"xaxis\": {\"anchor\": \"y\", \"domain\": [0.0, 0.2888888888888889]}, \"yaxis\": {\"anchor\": \"x\", \"domain\": [0.7333333333333333, 1.0]}, \"xaxis2\": {\"anchor\": \"y2\", \"domain\": [0.35555555555555557, 0.6444444444444445]}, \"yaxis2\": {\"anchor\": \"x2\", \"domain\": [0.7333333333333333, 1.0]}, \"xaxis3\": {\"anchor\": \"y3\", \"domain\": [0.7111111111111111, 1.0]}, \"yaxis3\": {\"anchor\": \"x3\", \"domain\": [0.7333333333333333, 1.0]}, \"xaxis4\": {\"anchor\": \"y4\", \"domain\": [0.0, 0.2888888888888889]}, \"yaxis4\": {\"anchor\": \"x4\", \"domain\": [0.36666666666666664, 0.6333333333333333]}, \"xaxis5\": {\"anchor\": \"y5\", \"domain\": [0.35555555555555557, 0.6444444444444445]}, \"yaxis5\": {\"anchor\": \"x5\", \"domain\": [0.36666666666666664, 0.6333333333333333]}, \"xaxis6\": {\"anchor\": \"y6\", \"domain\": [0.7111111111111111, 1.0]}, \"yaxis6\": {\"anchor\": \"x6\", \"domain\": [0.36666666666666664, 0.6333333333333333]}, \"xaxis7\": {\"anchor\": \"y7\", \"domain\": [0.0, 0.2888888888888889]}, \"yaxis7\": {\"anchor\": \"x7\", \"domain\": [0.0, 0.26666666666666666]}, \"xaxis8\": {\"anchor\": \"y8\", \"domain\": [0.35555555555555557, 0.6444444444444445]}, \"yaxis8\": {\"anchor\": \"x8\", \"domain\": [0.0, 0.26666666666666666]}, \"xaxis9\": {\"anchor\": \"y9\", \"domain\": [0.7111111111111111, 1.0]}, \"yaxis9\": {\"anchor\": \"x9\", \"domain\": [0.0, 0.26666666666666666]}, \"title\": {\"text\": \"Underpopulation\"}}, {\"showLink\": false, \"linkText\": \"Export to plot.ly\", \"plotlyServerURL\": \"https://plot.ly\"})});</script><script type=\"text/javascript\">window.addEventListener(\"resize\", function(){window._Plotly.Plots.resize(document.getElementById(\"bc4dc2a5-9770-46e6-aa21-618e852cde05\"));});</script>"
      ],
      "text/vnd.plotly.v1+html": [
       "<div id=\"bc4dc2a5-9770-46e6-aa21-618e852cde05\" style=\"height: 525px; width: 100%;\" class=\"plotly-graph-div\"></div><script type=\"text/javascript\">require([\"plotly\"], function(Plotly) { window.PLOTLYENV=window.PLOTLYENV || {};window.PLOTLYENV.BASE_URL=\"https://plot.ly\";Plotly.newPlot(\"bc4dc2a5-9770-46e6-aa21-618e852cde05\", [{\"colorscale\": \"YlGnBu\", \"showscale\": false, \"z\": [[0, 1, 0, 0], [0, 1, 0, 0], [0, 0, 1, 0]], \"type\": \"heatmap\", \"uid\": \"e60f85b2-6e2d-4c29-a7c5-49200adf2e47\", \"xaxis\": \"x\", \"yaxis\": \"y\"}, {\"colorscale\": \"YlGnBu\", \"showscale\": false, \"z\": [[0.0, 0.0, 0.0, 0.0], [0.0, 1.0, 1.0, 0.0], [0.0, 0.0, 0.0, 0.0]], \"zmax\": 1, \"zmin\": 0, \"type\": \"heatmap\", \"uid\": \"6d883db8-1a69-4481-914b-fce71609a5a2\", \"xaxis\": \"x4\", \"yaxis\": \"y4\"}, {\"colorscale\": \"YlGnBu\", \"showscale\": false, \"z\": [[0.0, 0.0, 0.0, 0.0], [0.0, 0.0, 0.0, 0.0], [0.0, 0.0, 0.0, 0.0]], \"zmax\": 1, \"zmin\": 0, \"type\": \"heatmap\", \"uid\": \"a48d7dba-206d-474e-a844-e3c5db7e6e30\", \"xaxis\": \"x7\", \"yaxis\": \"y7\"}, {\"colorscale\": \"YlGnBu\", \"showscale\": false, \"z\": [[0, 1, 0, 0], [1, 0, 1, 0], [0, 0, 0, 0]], \"type\": \"heatmap\", \"uid\": \"5ccea86e-f0e8-44ba-9cd1-cd20d5d06c64\", \"xaxis\": \"x2\", \"yaxis\": \"y2\"}, {\"colorscale\": \"YlGnBu\", \"showscale\": false, \"z\": [[0.0, 1.0, 0.0, 0.0], [0.0, 1.0, 0.0, 0.0], [0.0, 0.0, 0.0, 0.0]], \"zmax\": 1, \"zmin\": 0, \"type\": \"heatmap\", \"uid\": \"8c3776c8-0326-4948-b236-0350534222f9\", \"xaxis\": \"x5\", \"yaxis\": \"y5\"}, {\"colorscale\": \"YlGnBu\", \"showscale\": false, \"z\": [[0.0, 0.0, 0.0, 0.0], [0.0, 0.0, 0.0, 0.0], [0.0, 0.0, 0.0, 0.0]], \"zmax\": 1, \"zmin\": 0, \"type\": \"heatmap\", \"uid\": \"717ef8f4-4f29-479e-a62a-860950fbea54\", \"xaxis\": \"x8\", \"yaxis\": \"y8\"}, {\"colorscale\": \"YlGnBu\", \"showscale\": false, \"z\": [[0, 0, 1, 0], [0, 1, 0, 0], [1, 0, 0, 0]], \"type\": \"heatmap\", \"uid\": \"58d90fa0-119a-49bd-b327-19ce4d4f1887\", \"xaxis\": \"x3\", \"yaxis\": \"y3\"}, {\"colorscale\": \"YlGnBu\", \"showscale\": false, \"z\": [[0.0, 0.0, 0.0, 0.0], [0.0, 1.0, 0.0, 0.0], [0.0, 0.0, 0.0, 0.0]], \"zmax\": 1, \"zmin\": 0, \"type\": \"heatmap\", \"uid\": \"341f62de-4ed0-4b15-9a1c-b68a90427f43\", \"xaxis\": \"x6\", \"yaxis\": \"y6\"}, {\"colorscale\": \"YlGnBu\", \"showscale\": false, \"z\": [[0.0, 0.0, 0.0, 0.0], [0.0, 0.0, 0.0, 0.0], [0.0, 0.0, 0.0, 0.0]], \"zmax\": 1, \"zmin\": 0, \"type\": \"heatmap\", \"uid\": \"93f347e8-67b4-4176-ab60-bb310d0162eb\", \"xaxis\": \"x9\", \"yaxis\": \"y9\"}], {\"xaxis\": {\"anchor\": \"y\", \"domain\": [0.0, 0.2888888888888889]}, \"yaxis\": {\"anchor\": \"x\", \"domain\": [0.7333333333333333, 1.0]}, \"xaxis2\": {\"anchor\": \"y2\", \"domain\": [0.35555555555555557, 0.6444444444444445]}, \"yaxis2\": {\"anchor\": \"x2\", \"domain\": [0.7333333333333333, 1.0]}, \"xaxis3\": {\"anchor\": \"y3\", \"domain\": [0.7111111111111111, 1.0]}, \"yaxis3\": {\"anchor\": \"x3\", \"domain\": [0.7333333333333333, 1.0]}, \"xaxis4\": {\"anchor\": \"y4\", \"domain\": [0.0, 0.2888888888888889]}, \"yaxis4\": {\"anchor\": \"x4\", \"domain\": [0.36666666666666664, 0.6333333333333333]}, \"xaxis5\": {\"anchor\": \"y5\", \"domain\": [0.35555555555555557, 0.6444444444444445]}, \"yaxis5\": {\"anchor\": \"x5\", \"domain\": [0.36666666666666664, 0.6333333333333333]}, \"xaxis6\": {\"anchor\": \"y6\", \"domain\": [0.7111111111111111, 1.0]}, \"yaxis6\": {\"anchor\": \"x6\", \"domain\": [0.36666666666666664, 0.6333333333333333]}, \"xaxis7\": {\"anchor\": \"y7\", \"domain\": [0.0, 0.2888888888888889]}, \"yaxis7\": {\"anchor\": \"x7\", \"domain\": [0.0, 0.26666666666666666]}, \"xaxis8\": {\"anchor\": \"y8\", \"domain\": [0.35555555555555557, 0.6444444444444445]}, \"yaxis8\": {\"anchor\": \"x8\", \"domain\": [0.0, 0.26666666666666666]}, \"xaxis9\": {\"anchor\": \"y9\", \"domain\": [0.7111111111111111, 1.0]}, \"yaxis9\": {\"anchor\": \"x9\", \"domain\": [0.0, 0.26666666666666666]}, \"title\": {\"text\": \"Underpopulation\"}}, {\"showLink\": false, \"linkText\": \"Export to plot.ly\", \"plotlyServerURL\": \"https://plot.ly\"})});</script><script type=\"text/javascript\">window.addEventListener(\"resize\", function(){window._Plotly.Plots.resize(document.getElementById(\"bc4dc2a5-9770-46e6-aa21-618e852cde05\"));});</script>"
      ]
     },
     "metadata": {},
     "output_type": "display_data"
    }
   ],
   "source": [
    "X1 = np.array([\n",
    "    [0, 1, 0, 0],\n",
    "    [0, 1, 0, 0],\n",
    "    [0, 0, 1, 0],\n",
    "])\n",
    "\n",
    "X2 = np.array([\n",
    "    [0, 1, 0, 0],\n",
    "    [1, 0, 1, 0],\n",
    "    [0, 0, 0, 0],\n",
    "])\n",
    "\n",
    "X3 = np.array([\n",
    "    [0, 0, 1, 0],\n",
    "    [0, 1, 0, 0],\n",
    "    [1, 0, 0, 0],\n",
    "])\n",
    "\n",
    "Y1 = game_of_life(X1, 2)\n",
    "Y2 = game_of_life(X2, 2)\n",
    "Y3 = game_of_life(X3, 2)\n",
    "\n",
    "figure = tools.make_subplots(rows=3, cols=3, print_grid=False)\n",
    "\n",
    "figure.append_trace(go.Heatmap(z=X1, colorscale='YlGnBu', showscale=False), 1, 1)\n",
    "figure.append_trace(go.Heatmap(z=Y1[-2], colorscale='YlGnBu', showscale=False, zmin=0, zmax=1), 2, 1)\n",
    "figure.append_trace(go.Heatmap(z=Y1[-1], colorscale='YlGnBu', showscale=False, zmin=0, zmax=1), 3, 1)\n",
    "\n",
    "figure.append_trace(go.Heatmap(z=X2, colorscale='YlGnBu', showscale=False), 1, 2)\n",
    "figure.append_trace(go.Heatmap(z=Y2[-2], colorscale='YlGnBu', showscale=False, zmin=0, zmax=1), 2, 2)\n",
    "figure.append_trace(go.Heatmap(z=Y2[-1], colorscale='YlGnBu', showscale=False, zmin=0, zmax=1), 3, 2)\n",
    "\n",
    "figure.append_trace(go.Heatmap(z=X3, colorscale='YlGnBu', showscale=False), 1, 3)\n",
    "figure.append_trace(go.Heatmap(z=Y3[-2], colorscale='YlGnBu', showscale=False, zmin=0, zmax=1), 2, 3)\n",
    "figure.append_trace(go.Heatmap(z=Y3[-1], colorscale='YlGnBu', showscale=False, zmin=0, zmax=1), 3, 3)\n",
    "\n",
    "figure['layout'].update(title='Underpopulation')\n",
    "\n",
    "py.iplot(figure)"
   ]
  },
  {
   "cell_type": "code",
   "execution_count": 56,
   "metadata": {},
   "outputs": [
    {
     "data": {
      "application/vnd.plotly.v1+json": {
       "config": {
        "linkText": "Export to plot.ly",
        "plotlyServerURL": "https://plot.ly",
        "showLink": false
       },
       "data": [
        {
         "colorscale": "YlGnBu",
         "showscale": false,
         "type": "heatmap",
         "uid": "b46cfc95-4ef6-497f-a782-b19bee293088",
         "xaxis": "x",
         "yaxis": "y",
         "z": [
          [
           0,
           1,
           1,
           0
          ],
          [
           0,
           1,
           0,
           0
          ],
          [
           1,
           1,
           0,
           0
          ]
         ]
        },
        {
         "colorscale": "YlGnBu",
         "showscale": false,
         "type": "heatmap",
         "uid": "c7bf37e2-edee-4edf-ba3a-13bcd536701b",
         "xaxis": "x2",
         "yaxis": "y2",
         "z": [
          [
           0,
           1,
           1,
           0
          ],
          [
           0,
           0,
           0,
           0
          ],
          [
           1,
           1,
           0,
           0
          ]
         ],
         "zmax": 1,
         "zmin": 0
        },
        {
         "colorscale": "YlGnBu",
         "showscale": false,
         "type": "heatmap",
         "uid": "9409e3ef-ad12-467e-80cb-56af9220f393",
         "xaxis": "x3",
         "yaxis": "y3",
         "z": [
          [
           0,
           0,
           0,
           0
          ],
          [
           1,
           0,
           1,
           0
          ],
          [
           0,
           0,
           0,
           0
          ]
         ],
         "zmax": 1,
         "zmin": 0
        },
        {
         "colorscale": "YlGnBu",
         "showscale": false,
         "type": "heatmap",
         "uid": "5943bc11-101e-4998-a63c-b78aa6818649",
         "xaxis": "x4",
         "yaxis": "y4",
         "z": [
          [
           0,
           0,
           0,
           0
          ],
          [
           0,
           0,
           0,
           0
          ],
          [
           0,
           0,
           0,
           0
          ]
         ],
         "zmax": 1,
         "zmin": 0
        }
       ],
       "layout": {
        "height": 1000,
        "title": {
         "text": "Underpopulation"
        },
        "width": 500,
        "xaxis": {
         "anchor": "y",
         "domain": [
          0,
          1
         ]
        },
        "xaxis2": {
         "anchor": "y2",
         "domain": [
          0,
          1
         ]
        },
        "xaxis3": {
         "anchor": "y3",
         "domain": [
          0,
          1
         ]
        },
        "xaxis4": {
         "anchor": "y4",
         "domain": [
          0,
          1
         ]
        },
        "yaxis": {
         "anchor": "x",
         "domain": [
          0.80625,
          1
         ]
        },
        "yaxis2": {
         "anchor": "x2",
         "domain": [
          0.5375,
          0.73125
         ]
        },
        "yaxis3": {
         "anchor": "x3",
         "domain": [
          0.26875,
          0.4625
         ]
        },
        "yaxis4": {
         "anchor": "x4",
         "domain": [
          0,
          0.19375
         ]
        }
       }
      },
      "text/html": [
       "<div id=\"65131a3c-4de1-4bda-985a-8844ec51ef7b\" style=\"height: 1000px; width: 500px;\" class=\"plotly-graph-div\"></div><script type=\"text/javascript\">require([\"plotly\"], function(Plotly) { window.PLOTLYENV=window.PLOTLYENV || {};window.PLOTLYENV.BASE_URL=\"https://plot.ly\";Plotly.newPlot(\"65131a3c-4de1-4bda-985a-8844ec51ef7b\", [{\"colorscale\": \"YlGnBu\", \"showscale\": false, \"z\": [[0.0, 1.0, 1.0, 0.0], [0.0, 1.0, 0.0, 0.0], [1.0, 1.0, 0.0, 0.0]], \"type\": \"heatmap\", \"uid\": \"b46cfc95-4ef6-497f-a782-b19bee293088\", \"xaxis\": \"x\", \"yaxis\": \"y\"}, {\"colorscale\": \"YlGnBu\", \"showscale\": false, \"z\": [[0.0, 1.0, 1.0, 0.0], [0.0, 0.0, 0.0, 0.0], [1.0, 1.0, 0.0, 0.0]], \"zmax\": 1, \"zmin\": 0, \"type\": \"heatmap\", \"uid\": \"c7bf37e2-edee-4edf-ba3a-13bcd536701b\", \"xaxis\": \"x2\", \"yaxis\": \"y2\"}, {\"colorscale\": \"YlGnBu\", \"showscale\": false, \"z\": [[0.0, 0.0, 0.0, 0.0], [1.0, 0.0, 1.0, 0.0], [0.0, 0.0, 0.0, 0.0]], \"zmax\": 1, \"zmin\": 0, \"type\": \"heatmap\", \"uid\": \"9409e3ef-ad12-467e-80cb-56af9220f393\", \"xaxis\": \"x3\", \"yaxis\": \"y3\"}, {\"colorscale\": \"YlGnBu\", \"showscale\": false, \"z\": [[0.0, 0.0, 0.0, 0.0], [0.0, 0.0, 0.0, 0.0], [0.0, 0.0, 0.0, 0.0]], \"zmax\": 1, \"zmin\": 0, \"type\": \"heatmap\", \"uid\": \"5943bc11-101e-4998-a63c-b78aa6818649\", \"xaxis\": \"x4\", \"yaxis\": \"y4\"}], {\"xaxis\": {\"anchor\": \"y\", \"domain\": [0.0, 1.0]}, \"yaxis\": {\"anchor\": \"x\", \"domain\": [0.80625, 1.0]}, \"xaxis2\": {\"anchor\": \"y2\", \"domain\": [0.0, 1.0]}, \"yaxis2\": {\"anchor\": \"x2\", \"domain\": [0.5375, 0.73125]}, \"xaxis3\": {\"anchor\": \"y3\", \"domain\": [0.0, 1.0]}, \"yaxis3\": {\"anchor\": \"x3\", \"domain\": [0.26875, 0.4625]}, \"xaxis4\": {\"anchor\": \"y4\", \"domain\": [0.0, 1.0]}, \"yaxis4\": {\"anchor\": \"x4\", \"domain\": [0.0, 0.19375]}, \"title\": {\"text\": \"Underpopulation\"}, \"width\": 500, \"height\": 1000}, {\"showLink\": false, \"linkText\": \"Export to plot.ly\", \"plotlyServerURL\": \"https://plot.ly\"})});</script>"
      ],
      "text/vnd.plotly.v1+html": [
       "<div id=\"65131a3c-4de1-4bda-985a-8844ec51ef7b\" style=\"height: 1000px; width: 500px;\" class=\"plotly-graph-div\"></div><script type=\"text/javascript\">require([\"plotly\"], function(Plotly) { window.PLOTLYENV=window.PLOTLYENV || {};window.PLOTLYENV.BASE_URL=\"https://plot.ly\";Plotly.newPlot(\"65131a3c-4de1-4bda-985a-8844ec51ef7b\", [{\"colorscale\": \"YlGnBu\", \"showscale\": false, \"z\": [[0.0, 1.0, 1.0, 0.0], [0.0, 1.0, 0.0, 0.0], [1.0, 1.0, 0.0, 0.0]], \"type\": \"heatmap\", \"uid\": \"b46cfc95-4ef6-497f-a782-b19bee293088\", \"xaxis\": \"x\", \"yaxis\": \"y\"}, {\"colorscale\": \"YlGnBu\", \"showscale\": false, \"z\": [[0.0, 1.0, 1.0, 0.0], [0.0, 0.0, 0.0, 0.0], [1.0, 1.0, 0.0, 0.0]], \"zmax\": 1, \"zmin\": 0, \"type\": \"heatmap\", \"uid\": \"c7bf37e2-edee-4edf-ba3a-13bcd536701b\", \"xaxis\": \"x2\", \"yaxis\": \"y2\"}, {\"colorscale\": \"YlGnBu\", \"showscale\": false, \"z\": [[0.0, 0.0, 0.0, 0.0], [1.0, 0.0, 1.0, 0.0], [0.0, 0.0, 0.0, 0.0]], \"zmax\": 1, \"zmin\": 0, \"type\": \"heatmap\", \"uid\": \"9409e3ef-ad12-467e-80cb-56af9220f393\", \"xaxis\": \"x3\", \"yaxis\": \"y3\"}, {\"colorscale\": \"YlGnBu\", \"showscale\": false, \"z\": [[0.0, 0.0, 0.0, 0.0], [0.0, 0.0, 0.0, 0.0], [0.0, 0.0, 0.0, 0.0]], \"zmax\": 1, \"zmin\": 0, \"type\": \"heatmap\", \"uid\": \"5943bc11-101e-4998-a63c-b78aa6818649\", \"xaxis\": \"x4\", \"yaxis\": \"y4\"}], {\"xaxis\": {\"anchor\": \"y\", \"domain\": [0.0, 1.0]}, \"yaxis\": {\"anchor\": \"x\", \"domain\": [0.80625, 1.0]}, \"xaxis2\": {\"anchor\": \"y2\", \"domain\": [0.0, 1.0]}, \"yaxis2\": {\"anchor\": \"x2\", \"domain\": [0.5375, 0.73125]}, \"xaxis3\": {\"anchor\": \"y3\", \"domain\": [0.0, 1.0]}, \"yaxis3\": {\"anchor\": \"x3\", \"domain\": [0.26875, 0.4625]}, \"xaxis4\": {\"anchor\": \"y4\", \"domain\": [0.0, 1.0]}, \"yaxis4\": {\"anchor\": \"x4\", \"domain\": [0.0, 0.19375]}, \"title\": {\"text\": \"Underpopulation\"}, \"width\": 500, \"height\": 1000}, {\"showLink\": false, \"linkText\": \"Export to plot.ly\", \"plotlyServerURL\": \"https://plot.ly\"})});</script>"
      ]
     },
     "metadata": {},
     "output_type": "display_data"
    }
   ],
   "source": [
    "X0 = np.array([\n",
    "    [0, 1, 1, 0],\n",
    "    [0, 1, 0, 0],\n",
    "    [1, 1, 0, 0],\n",
    "])\n",
    "\n",
    "Y0 = game_of_life(X0, 4)\n",
    "\n",
    "figure = tools.make_subplots(rows=4, cols=1, print_grid=False)\n",
    "\n",
    "figure.append_trace(go.Heatmap(z=Y0[0], colorscale='YlGnBu', showscale=False), 1, 1)\n",
    "figure.append_trace(go.Heatmap(z=Y0[1], colorscale='YlGnBu', showscale=False, zmin=0, zmax=1), 2, 1)\n",
    "figure.append_trace(go.Heatmap(z=Y0[2], colorscale='YlGnBu', showscale=False, zmin=0, zmax=1), 3, 1)\n",
    "figure.append_trace(go.Heatmap(z=Y0[3], colorscale='YlGnBu', showscale=False, zmin=0, zmax=1), 4, 1)\n",
    "\n",
    "figure['layout'].update(title='Underpopulation', width=500, height=1000)\n",
    "\n",
    "py.iplot(figure)"
   ]
  },
  {
   "cell_type": "code",
   "execution_count": 59,
   "metadata": {},
   "outputs": [
    {
     "data": {
      "application/vnd.plotly.v1+json": {
       "config": {
        "linkText": "Export to plot.ly",
        "plotlyServerURL": "https://plot.ly",
        "showLink": false
       },
       "data": [
        {
         "colorscale": "YlGnBu",
         "showscale": false,
         "type": "heatmap",
         "uid": "3386c180-3589-48df-8c61-ba52a6a5009e",
         "xaxis": "x",
         "yaxis": "y",
         "z": [
          [
           0,
           0,
           0,
           0
          ],
          [
           1,
           1,
           1,
           0
          ],
          [
           0,
           0,
           0,
           0
          ]
         ]
        },
        {
         "colorscale": "YlGnBu",
         "showscale": false,
         "type": "heatmap",
         "uid": "5de00754-1990-4667-83f2-5b79432bd297",
         "xaxis": "x2",
         "yaxis": "y2",
         "z": [
          [
           0,
           1,
           0,
           0
          ],
          [
           0,
           1,
           0,
           0
          ],
          [
           0,
           1,
           0,
           0
          ]
         ],
         "zmax": 1,
         "zmin": 0
        },
        {
         "colorscale": "YlGnBu",
         "showscale": false,
         "type": "heatmap",
         "uid": "7e084323-6dee-4c98-a5fb-5605537fa42a",
         "xaxis": "x3",
         "yaxis": "y3",
         "z": [
          [
           0,
           0,
           0,
           0
          ],
          [
           1,
           1,
           1,
           0
          ],
          [
           0,
           0,
           0,
           0
          ]
         ],
         "zmax": 1,
         "zmin": 0
        },
        {
         "colorscale": "YlGnBu",
         "showscale": false,
         "type": "heatmap",
         "uid": "32ab3622-811c-4d2e-befb-ac29552e1c19",
         "xaxis": "x4",
         "yaxis": "y4",
         "z": [
          [
           0,
           1,
           0,
           0
          ],
          [
           0,
           1,
           0,
           0
          ],
          [
           0,
           1,
           0,
           0
          ]
         ],
         "zmax": 1,
         "zmin": 0
        },
        {
         "colorscale": "YlGnBu",
         "showscale": false,
         "type": "heatmap",
         "uid": "53c4e3af-5ba1-4044-85b3-95eeedff9ecf",
         "xaxis": "x5",
         "yaxis": "y5",
         "z": [
          [
           0,
           0,
           0,
           0
          ],
          [
           1,
           1,
           1,
           0
          ],
          [
           0,
           0,
           0,
           0
          ]
         ],
         "zmax": 1,
         "zmin": 0
        },
        {
         "colorscale": "YlGnBu",
         "showscale": false,
         "type": "heatmap",
         "uid": "65a89432-3045-4938-85b8-8693e0d6c7d4",
         "xaxis": "x6",
         "yaxis": "y6",
         "z": [
          [
           0,
           1,
           0,
           0
          ],
          [
           0,
           1,
           0,
           0
          ],
          [
           0,
           1,
           0,
           0
          ]
         ],
         "zmax": 1,
         "zmin": 0
        },
        {
         "colorscale": "YlGnBu",
         "showscale": false,
         "type": "heatmap",
         "uid": "879e9edc-6db8-4795-bbfc-98604003485d",
         "xaxis": "x7",
         "yaxis": "y7",
         "z": [
          [
           0,
           0,
           0,
           0
          ],
          [
           1,
           1,
           1,
           0
          ],
          [
           0,
           0,
           0,
           0
          ]
         ],
         "zmax": 1,
         "zmin": 0
        },
        {
         "colorscale": "YlGnBu",
         "showscale": false,
         "type": "heatmap",
         "uid": "2c08cbdb-c6be-44cf-ae0a-d03cb1dd49e8",
         "xaxis": "x8",
         "yaxis": "y8",
         "z": [
          [
           0,
           1,
           0,
           0
          ],
          [
           0,
           1,
           0,
           0
          ],
          [
           0,
           1,
           0,
           0
          ]
         ],
         "zmax": 1,
         "zmin": 0
        }
       ],
       "layout": {
        "title": {
         "text": "Blinker"
        },
        "xaxis": {
         "anchor": "y",
         "domain": [
          0,
          0.2125
         ]
        },
        "xaxis2": {
         "anchor": "y2",
         "domain": [
          0.2625,
          0.475
         ]
        },
        "xaxis3": {
         "anchor": "y3",
         "domain": [
          0.525,
          0.7375
         ]
        },
        "xaxis4": {
         "anchor": "y4",
         "domain": [
          0.7875,
          1
         ]
        },
        "xaxis5": {
         "anchor": "y5",
         "domain": [
          0,
          0.2125
         ]
        },
        "xaxis6": {
         "anchor": "y6",
         "domain": [
          0.2625,
          0.475
         ]
        },
        "xaxis7": {
         "anchor": "y7",
         "domain": [
          0.525,
          0.7375
         ]
        },
        "xaxis8": {
         "anchor": "y8",
         "domain": [
          0.7875,
          1
         ]
        },
        "yaxis": {
         "anchor": "x",
         "domain": [
          0.575,
          1
         ]
        },
        "yaxis2": {
         "anchor": "x2",
         "domain": [
          0.575,
          1
         ]
        },
        "yaxis3": {
         "anchor": "x3",
         "domain": [
          0.575,
          1
         ]
        },
        "yaxis4": {
         "anchor": "x4",
         "domain": [
          0.575,
          1
         ]
        },
        "yaxis5": {
         "anchor": "x5",
         "domain": [
          0,
          0.425
         ]
        },
        "yaxis6": {
         "anchor": "x6",
         "domain": [
          0,
          0.425
         ]
        },
        "yaxis7": {
         "anchor": "x7",
         "domain": [
          0,
          0.425
         ]
        },
        "yaxis8": {
         "anchor": "x8",
         "domain": [
          0,
          0.425
         ]
        }
       }
      },
      "text/html": [
       "<div id=\"3b9ff374-cfbc-498d-9cfe-235ef25a879b\" style=\"height: 525px; width: 100%;\" class=\"plotly-graph-div\"></div><script type=\"text/javascript\">require([\"plotly\"], function(Plotly) { window.PLOTLYENV=window.PLOTLYENV || {};window.PLOTLYENV.BASE_URL=\"https://plot.ly\";Plotly.newPlot(\"3b9ff374-cfbc-498d-9cfe-235ef25a879b\", [{\"colorscale\": \"YlGnBu\", \"showscale\": false, \"z\": [[0.0, 0.0, 0.0, 0.0], [1.0, 1.0, 1.0, 0.0], [0.0, 0.0, 0.0, 0.0]], \"type\": \"heatmap\", \"uid\": \"3386c180-3589-48df-8c61-ba52a6a5009e\", \"xaxis\": \"x\", \"yaxis\": \"y\"}, {\"colorscale\": \"YlGnBu\", \"showscale\": false, \"z\": [[0.0, 1.0, 0.0, 0.0], [0.0, 1.0, 0.0, 0.0], [0.0, 1.0, 0.0, 0.0]], \"zmax\": 1, \"zmin\": 0, \"type\": \"heatmap\", \"uid\": \"5de00754-1990-4667-83f2-5b79432bd297\", \"xaxis\": \"x2\", \"yaxis\": \"y2\"}, {\"colorscale\": \"YlGnBu\", \"showscale\": false, \"z\": [[0.0, 0.0, 0.0, 0.0], [1.0, 1.0, 1.0, 0.0], [0.0, 0.0, 0.0, 0.0]], \"zmax\": 1, \"zmin\": 0, \"type\": \"heatmap\", \"uid\": \"7e084323-6dee-4c98-a5fb-5605537fa42a\", \"xaxis\": \"x3\", \"yaxis\": \"y3\"}, {\"colorscale\": \"YlGnBu\", \"showscale\": false, \"z\": [[0.0, 1.0, 0.0, 0.0], [0.0, 1.0, 0.0, 0.0], [0.0, 1.0, 0.0, 0.0]], \"zmax\": 1, \"zmin\": 0, \"type\": \"heatmap\", \"uid\": \"32ab3622-811c-4d2e-befb-ac29552e1c19\", \"xaxis\": \"x4\", \"yaxis\": \"y4\"}, {\"colorscale\": \"YlGnBu\", \"showscale\": false, \"z\": [[0.0, 0.0, 0.0, 0.0], [1.0, 1.0, 1.0, 0.0], [0.0, 0.0, 0.0, 0.0]], \"zmax\": 1, \"zmin\": 0, \"type\": \"heatmap\", \"uid\": \"53c4e3af-5ba1-4044-85b3-95eeedff9ecf\", \"xaxis\": \"x5\", \"yaxis\": \"y5\"}, {\"colorscale\": \"YlGnBu\", \"showscale\": false, \"z\": [[0.0, 1.0, 0.0, 0.0], [0.0, 1.0, 0.0, 0.0], [0.0, 1.0, 0.0, 0.0]], \"zmax\": 1, \"zmin\": 0, \"type\": \"heatmap\", \"uid\": \"65a89432-3045-4938-85b8-8693e0d6c7d4\", \"xaxis\": \"x6\", \"yaxis\": \"y6\"}, {\"colorscale\": \"YlGnBu\", \"showscale\": false, \"z\": [[0.0, 0.0, 0.0, 0.0], [1.0, 1.0, 1.0, 0.0], [0.0, 0.0, 0.0, 0.0]], \"zmax\": 1, \"zmin\": 0, \"type\": \"heatmap\", \"uid\": \"879e9edc-6db8-4795-bbfc-98604003485d\", \"xaxis\": \"x7\", \"yaxis\": \"y7\"}, {\"colorscale\": \"YlGnBu\", \"showscale\": false, \"z\": [[0.0, 1.0, 0.0, 0.0], [0.0, 1.0, 0.0, 0.0], [0.0, 1.0, 0.0, 0.0]], \"zmax\": 1, \"zmin\": 0, \"type\": \"heatmap\", \"uid\": \"2c08cbdb-c6be-44cf-ae0a-d03cb1dd49e8\", \"xaxis\": \"x8\", \"yaxis\": \"y8\"}], {\"xaxis\": {\"anchor\": \"y\", \"domain\": [0.0, 0.2125]}, \"yaxis\": {\"anchor\": \"x\", \"domain\": [0.575, 1.0]}, \"xaxis2\": {\"anchor\": \"y2\", \"domain\": [0.2625, 0.475]}, \"yaxis2\": {\"anchor\": \"x2\", \"domain\": [0.575, 1.0]}, \"xaxis3\": {\"anchor\": \"y3\", \"domain\": [0.525, 0.7375]}, \"yaxis3\": {\"anchor\": \"x3\", \"domain\": [0.575, 1.0]}, \"xaxis4\": {\"anchor\": \"y4\", \"domain\": [0.7875, 1.0]}, \"yaxis4\": {\"anchor\": \"x4\", \"domain\": [0.575, 1.0]}, \"xaxis5\": {\"anchor\": \"y5\", \"domain\": [0.0, 0.2125]}, \"yaxis5\": {\"anchor\": \"x5\", \"domain\": [0.0, 0.425]}, \"xaxis6\": {\"anchor\": \"y6\", \"domain\": [0.2625, 0.475]}, \"yaxis6\": {\"anchor\": \"x6\", \"domain\": [0.0, 0.425]}, \"xaxis7\": {\"anchor\": \"y7\", \"domain\": [0.525, 0.7375]}, \"yaxis7\": {\"anchor\": \"x7\", \"domain\": [0.0, 0.425]}, \"xaxis8\": {\"anchor\": \"y8\", \"domain\": [0.7875, 1.0]}, \"yaxis8\": {\"anchor\": \"x8\", \"domain\": [0.0, 0.425]}, \"title\": {\"text\": \"Blinker\"}}, {\"showLink\": false, \"linkText\": \"Export to plot.ly\", \"plotlyServerURL\": \"https://plot.ly\"})});</script><script type=\"text/javascript\">window.addEventListener(\"resize\", function(){window._Plotly.Plots.resize(document.getElementById(\"3b9ff374-cfbc-498d-9cfe-235ef25a879b\"));});</script>"
      ],
      "text/vnd.plotly.v1+html": [
       "<div id=\"3b9ff374-cfbc-498d-9cfe-235ef25a879b\" style=\"height: 525px; width: 100%;\" class=\"plotly-graph-div\"></div><script type=\"text/javascript\">require([\"plotly\"], function(Plotly) { window.PLOTLYENV=window.PLOTLYENV || {};window.PLOTLYENV.BASE_URL=\"https://plot.ly\";Plotly.newPlot(\"3b9ff374-cfbc-498d-9cfe-235ef25a879b\", [{\"colorscale\": \"YlGnBu\", \"showscale\": false, \"z\": [[0.0, 0.0, 0.0, 0.0], [1.0, 1.0, 1.0, 0.0], [0.0, 0.0, 0.0, 0.0]], \"type\": \"heatmap\", \"uid\": \"3386c180-3589-48df-8c61-ba52a6a5009e\", \"xaxis\": \"x\", \"yaxis\": \"y\"}, {\"colorscale\": \"YlGnBu\", \"showscale\": false, \"z\": [[0.0, 1.0, 0.0, 0.0], [0.0, 1.0, 0.0, 0.0], [0.0, 1.0, 0.0, 0.0]], \"zmax\": 1, \"zmin\": 0, \"type\": \"heatmap\", \"uid\": \"5de00754-1990-4667-83f2-5b79432bd297\", \"xaxis\": \"x2\", \"yaxis\": \"y2\"}, {\"colorscale\": \"YlGnBu\", \"showscale\": false, \"z\": [[0.0, 0.0, 0.0, 0.0], [1.0, 1.0, 1.0, 0.0], [0.0, 0.0, 0.0, 0.0]], \"zmax\": 1, \"zmin\": 0, \"type\": \"heatmap\", \"uid\": \"7e084323-6dee-4c98-a5fb-5605537fa42a\", \"xaxis\": \"x3\", \"yaxis\": \"y3\"}, {\"colorscale\": \"YlGnBu\", \"showscale\": false, \"z\": [[0.0, 1.0, 0.0, 0.0], [0.0, 1.0, 0.0, 0.0], [0.0, 1.0, 0.0, 0.0]], \"zmax\": 1, \"zmin\": 0, \"type\": \"heatmap\", \"uid\": \"32ab3622-811c-4d2e-befb-ac29552e1c19\", \"xaxis\": \"x4\", \"yaxis\": \"y4\"}, {\"colorscale\": \"YlGnBu\", \"showscale\": false, \"z\": [[0.0, 0.0, 0.0, 0.0], [1.0, 1.0, 1.0, 0.0], [0.0, 0.0, 0.0, 0.0]], \"zmax\": 1, \"zmin\": 0, \"type\": \"heatmap\", \"uid\": \"53c4e3af-5ba1-4044-85b3-95eeedff9ecf\", \"xaxis\": \"x5\", \"yaxis\": \"y5\"}, {\"colorscale\": \"YlGnBu\", \"showscale\": false, \"z\": [[0.0, 1.0, 0.0, 0.0], [0.0, 1.0, 0.0, 0.0], [0.0, 1.0, 0.0, 0.0]], \"zmax\": 1, \"zmin\": 0, \"type\": \"heatmap\", \"uid\": \"65a89432-3045-4938-85b8-8693e0d6c7d4\", \"xaxis\": \"x6\", \"yaxis\": \"y6\"}, {\"colorscale\": \"YlGnBu\", \"showscale\": false, \"z\": [[0.0, 0.0, 0.0, 0.0], [1.0, 1.0, 1.0, 0.0], [0.0, 0.0, 0.0, 0.0]], \"zmax\": 1, \"zmin\": 0, \"type\": \"heatmap\", \"uid\": \"879e9edc-6db8-4795-bbfc-98604003485d\", \"xaxis\": \"x7\", \"yaxis\": \"y7\"}, {\"colorscale\": \"YlGnBu\", \"showscale\": false, \"z\": [[0.0, 1.0, 0.0, 0.0], [0.0, 1.0, 0.0, 0.0], [0.0, 1.0, 0.0, 0.0]], \"zmax\": 1, \"zmin\": 0, \"type\": \"heatmap\", \"uid\": \"2c08cbdb-c6be-44cf-ae0a-d03cb1dd49e8\", \"xaxis\": \"x8\", \"yaxis\": \"y8\"}], {\"xaxis\": {\"anchor\": \"y\", \"domain\": [0.0, 0.2125]}, \"yaxis\": {\"anchor\": \"x\", \"domain\": [0.575, 1.0]}, \"xaxis2\": {\"anchor\": \"y2\", \"domain\": [0.2625, 0.475]}, \"yaxis2\": {\"anchor\": \"x2\", \"domain\": [0.575, 1.0]}, \"xaxis3\": {\"anchor\": \"y3\", \"domain\": [0.525, 0.7375]}, \"yaxis3\": {\"anchor\": \"x3\", \"domain\": [0.575, 1.0]}, \"xaxis4\": {\"anchor\": \"y4\", \"domain\": [0.7875, 1.0]}, \"yaxis4\": {\"anchor\": \"x4\", \"domain\": [0.575, 1.0]}, \"xaxis5\": {\"anchor\": \"y5\", \"domain\": [0.0, 0.2125]}, \"yaxis5\": {\"anchor\": \"x5\", \"domain\": [0.0, 0.425]}, \"xaxis6\": {\"anchor\": \"y6\", \"domain\": [0.2625, 0.475]}, \"yaxis6\": {\"anchor\": \"x6\", \"domain\": [0.0, 0.425]}, \"xaxis7\": {\"anchor\": \"y7\", \"domain\": [0.525, 0.7375]}, \"yaxis7\": {\"anchor\": \"x7\", \"domain\": [0.0, 0.425]}, \"xaxis8\": {\"anchor\": \"y8\", \"domain\": [0.7875, 1.0]}, \"yaxis8\": {\"anchor\": \"x8\", \"domain\": [0.0, 0.425]}, \"title\": {\"text\": \"Blinker\"}}, {\"showLink\": false, \"linkText\": \"Export to plot.ly\", \"plotlyServerURL\": \"https://plot.ly\"})});</script><script type=\"text/javascript\">window.addEventListener(\"resize\", function(){window._Plotly.Plots.resize(document.getElementById(\"3b9ff374-cfbc-498d-9cfe-235ef25a879b\"));});</script>"
      ]
     },
     "metadata": {},
     "output_type": "display_data"
    }
   ],
   "source": [
    "X0 = np.array([\n",
    "    [0, 0, 0, 0],\n",
    "    [1, 1, 1, 0],\n",
    "    [0, 0, 0, 0],\n",
    "])\n",
    "\n",
    "Y0 = game_of_life(X0, 8)\n",
    "\n",
    "figure = tools.make_subplots(rows=2, cols=4, print_grid=False)\n",
    "\n",
    "figure.append_trace(go.Heatmap(z=Y0[0], colorscale='YlGnBu', showscale=False), 1, 1)\n",
    "figure.append_trace(go.Heatmap(z=Y0[1], colorscale='YlGnBu', showscale=False, zmin=0, zmax=1), 1, 2)\n",
    "figure.append_trace(go.Heatmap(z=Y0[2], colorscale='YlGnBu', showscale=False, zmin=0, zmax=1), 1, 3)\n",
    "figure.append_trace(go.Heatmap(z=Y0[3], colorscale='YlGnBu', showscale=False, zmin=0, zmax=1), 1, 4)\n",
    "figure.append_trace(go.Heatmap(z=Y0[4], colorscale='YlGnBu', showscale=False, zmin=0, zmax=1), 2, 1)\n",
    "figure.append_trace(go.Heatmap(z=Y0[5], colorscale='YlGnBu', showscale=False, zmin=0, zmax=1), 2, 2)\n",
    "figure.append_trace(go.Heatmap(z=Y0[6], colorscale='YlGnBu', showscale=False, zmin=0, zmax=1), 2, 3)\n",
    "figure.append_trace(go.Heatmap(z=Y0[7], colorscale='YlGnBu', showscale=False, zmin=0, zmax=1), 2, 4)\n",
    "\n",
    "figure['layout'].update(title='Blinker')\n",
    "\n",
    "py.iplot(figure)"
   ]
  },
  {
   "cell_type": "code",
   "execution_count": null,
   "metadata": {},
   "outputs": [],
   "source": []
  }
 ],
 "metadata": {
  "kernelspec": {
   "display_name": "complex-systems",
   "language": "python",
   "name": "complex-systems"
  },
  "language_info": {
   "codemirror_mode": {
    "name": "ipython",
    "version": 3
   },
   "file_extension": ".py",
   "mimetype": "text/x-python",
   "name": "python",
   "nbconvert_exporter": "python",
   "pygments_lexer": "ipython3",
   "version": "3.7.0"
  }
 },
 "nbformat": 4,
 "nbformat_minor": 2
}
